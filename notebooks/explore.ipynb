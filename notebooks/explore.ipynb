{
 "cells": [
  {
   "cell_type": "code",
   "execution_count": null,
   "outputs": [],
   "source": [
    "import http.client\n",
    "import json\n",
    "import pandas as pd"
   ],
   "metadata": {
    "collapsed": false
   },
   "id": "f44c0ae1d8f854ef"
  },
  {
   "cell_type": "markdown",
   "source": [
    "### Schedule"
   ],
   "metadata": {
    "collapsed": false
   },
   "id": "311a01006a24139a"
  },
  {
   "cell_type": "code",
   "execution_count": 1,
   "outputs": [],
   "source": [
    "conn = http.client.HTTPSConnection(\"api.sportradar.us\")\n",
    "\n",
    "conn.request(\"GET\", \"/nba/production/v8/en/games/2020/REG/schedule.json?api_key=e6w9mm4e7yyguy2fpawsaxvd\")\n",
    "\n",
    "res = conn.getresponse()\n",
    "data = res.read().decode(\"utf-8\")"
   ],
   "metadata": {
    "collapsed": false,
    "ExecuteTime": {
     "start_time": "2023-09-18T14:22:58.528798Z"
    }
   },
   "id": "initial_id"
  },
  {
   "cell_type": "code",
   "execution_count": 2,
   "outputs": [],
   "source": [
    "data = json.loads(data)"
   ],
   "metadata": {
    "collapsed": false,
    "ExecuteTime": {
     "end_time": "2023-09-18T14:23:02.472942Z",
     "start_time": "2023-09-18T14:23:02.471960Z"
    }
   },
   "id": "f7f6c32b195c0936"
  },
  {
   "cell_type": "code",
   "execution_count": 6,
   "outputs": [],
   "source": [
    "raw_games = []\n",
    "for game in data['games']:\n",
    "    unnest_game = {}\n",
    "    for k1 in game.keys():\n",
    "        if isinstance(game[k1], dict):\n",
    "            for k2 in game[k1].keys():\n",
    "                if isinstance(game[k1][k2], dict):\n",
    "                    for k3 in game[k1][k2].keys():\n",
    "                        unnest_game[k1 + '_' + k2 + '_' + k3] = game[k1][k2][k3]\n",
    "                else:\n",
    "                    unnest_game[k1 + '_' + k2] = game[k1][k2]\n",
    "        else:\n",
    "            unnest_game[k1] = game[k1]\n",
    "    raw_games.append(unnest_game)"
   ],
   "metadata": {
    "collapsed": false,
    "ExecuteTime": {
     "end_time": "2023-09-18T14:36:29.422002Z",
     "start_time": "2023-09-18T14:36:29.394135Z"
    }
   },
   "id": "1cb77f2d9d6447b3"
  },
  {
   "cell_type": "code",
   "execution_count": 7,
   "outputs": [],
   "source": [
    "df = pd.DataFrame(raw_games)"
   ],
   "metadata": {
    "collapsed": false,
    "ExecuteTime": {
     "end_time": "2023-09-18T14:50:27.157923Z",
     "start_time": "2023-09-18T14:50:27.145160Z"
    }
   },
   "id": "da61a35bf6e660c9"
  },
  {
   "cell_type": "markdown",
   "source": [
    "### Seasons"
   ],
   "metadata": {
    "collapsed": false
   },
   "id": "b8e8955272634103"
  },
  {
   "cell_type": "code",
   "execution_count": 30,
   "outputs": [],
   "source": [
    "conn = http.client.HTTPSConnection(\"api.sportradar.us\")\n",
    "\n",
    "conn.request(\"GET\", \"/nba/production/v8/en/league/seasons.json?api_key=e6w9mm4e7yyguy2fpawsaxvd\")\n",
    "\n",
    "res = conn.getresponse()\n",
    "data = res.read().decode(\"utf-8\")\n",
    "jsondata = json.loads(data)"
   ],
   "metadata": {
    "collapsed": false,
    "ExecuteTime": {
     "end_time": "2023-09-19T18:27:48.628715Z",
     "start_time": "2023-09-19T18:27:47.228600Z"
    }
   },
   "id": "63f631706fdad310"
  },
  {
   "cell_type": "code",
   "execution_count": 32,
   "outputs": [],
   "source": [
    "raw_seasons = []\n",
    "for i in range(len(jsondata['seasons'])):\n",
    "    unnest_season = {}\n",
    "    for k1 in jsondata['seasons'][i].keys():\n",
    "        if isinstance(jsondata['seasons'][i][k1], dict):\n",
    "            for k2 in jsondata['seasons'][i][k1].keys():\n",
    "                unnest_season[k1 + '_' + k2] = jsondata['seasons'][i][k1][k2]\n",
    "        else:\n",
    "            unnest_season[k1] = jsondata['seasons'][i][k1]\n",
    "    raw_seasons.append(unnest_season)\n",
    "raw_seasons = pd.DataFrame(raw_seasons)"
   ],
   "metadata": {
    "collapsed": false,
    "ExecuteTime": {
     "end_time": "2023-09-19T18:28:16.393571Z",
     "start_time": "2023-09-19T18:28:16.359181Z"
    }
   },
   "id": "23ec935611c3f378"
  },
  {
   "cell_type": "markdown",
   "source": [
    "### League Leaders"
   ],
   "metadata": {
    "collapsed": false
   },
   "id": "2651a55936244026"
  },
  {
   "cell_type": "code",
   "execution_count": 18,
   "outputs": [],
   "source": [
    "conn = http.client.HTTPSConnection(\"api.sportradar.us\")\n",
    "\n",
    "conn.request(\"GET\", \"/nba/production/v8/en/seasons/2022/REG/leaders.json?api_key=e6w9mm4e7yyguy2fpawsaxvd\")\n",
    "\n",
    "res = conn.getresponse()\n",
    "data = res.read().decode(\"utf-8\")\n",
    "jsondata = json.loads(data)"
   ],
   "metadata": {
    "collapsed": false,
    "ExecuteTime": {
     "end_time": "2023-09-19T03:20:55.059974Z",
     "start_time": "2023-09-19T03:20:51.185870Z"
    }
   },
   "id": "b050b4402fb6d28e"
  },
  {
   "cell_type": "markdown",
   "source": [
    "### Player Profile"
   ],
   "metadata": {
    "collapsed": false
   },
   "id": "6cefd5200dfbeb00"
  },
  {
   "cell_type": "code",
   "execution_count": 27,
   "outputs": [],
   "source": [
    "conn = http.client.HTTPSConnection(\"api.sportradar.us\")\n",
    "\n",
    "conn.request(\"GET\", \"/nba/production/v8/en/players/ab532a66-9314-4d57-ade7-bb54a70c65ad/profile.json?api_key=e6w9mm4e7yyguy2fpawsaxvd\")\n",
    "\n",
    "res = conn.getresponse()\n",
    "data = res.read().decode(\"utf-8\")\n",
    "jsondata = json.loads(data)"
   ],
   "metadata": {
    "collapsed": false,
    "ExecuteTime": {
     "end_time": "2023-09-19T17:30:57.644657Z",
     "start_time": "2023-09-19T17:30:56.354580Z"
    }
   },
   "id": "9d2ebae799620156"
  },
  {
   "cell_type": "markdown",
   "source": [
    "### Team Profile"
   ],
   "metadata": {
    "collapsed": false
   },
   "id": "fd88866784802e52"
  },
  {
   "cell_type": "code",
   "execution_count": 24,
   "outputs": [],
   "source": [
    "conn = http.client.HTTPSConnection(\"api.sportradar.us\")\n",
    "\n",
    "conn.request(\"GET\", \"/nba/production/v8/en/teams/583eca2f-fb46-11e1-82cb-f4ce4684ea4c/profile.json?api_key=e6w9mm4e7yyguy2fpawsaxvd\")\n",
    "\n",
    "res = conn.getresponse()\n",
    "data = res.read().decode(\"utf-8\")\n",
    "jsondata = json.loads(data)"
   ],
   "metadata": {
    "collapsed": false,
    "ExecuteTime": {
     "end_time": "2023-09-19T12:49:08.271939Z",
     "start_time": "2023-09-19T12:49:07.518360Z"
    }
   },
   "id": "efcdd2dbe9cc66b2"
  },
  {
   "cell_type": "markdown",
   "source": [
    "### Seasonal Statistics"
   ],
   "metadata": {
    "collapsed": false
   },
   "id": "e738ebfb3b015626"
  },
  {
   "cell_type": "code",
   "execution_count": 33,
   "outputs": [],
   "source": [
    "conn = http.client.HTTPSConnection(\"api.sportradar.us\")\n",
    "\n",
    "conn.request(\"GET\", \"/nba/production/v8/en/seasons/2022/REG/teams/583eca2f-fb46-11e1-82cb-f4ce4684ea4c/statistics.json?api_key=e6w9mm4e7yyguy2fpawsaxvd\")\n",
    "\n",
    "res = conn.getresponse()\n",
    "data = res.read().decode(\"utf-8\")\n",
    "jsondata = json.loads(data)"
   ],
   "metadata": {
    "collapsed": false,
    "ExecuteTime": {
     "end_time": "2023-09-19T18:28:49.627686Z",
     "start_time": "2023-09-19T18:28:48.760433Z"
    }
   },
   "id": "d4bdf0db8e242ea9"
  },
  {
   "cell_type": "code",
   "execution_count": 35,
   "outputs": [],
   "source": [
    "player_seasons = []\n",
    "for i in range(len(jsondata['players'])):\n",
    "    unnest_season = {}\n",
    "    unnest_season['year'] = 2022\n",
    "    unnest_season['team_id'] = jsondata['id']\n",
    "    unnest_season['team_name'] = jsondata['name']\n",
    "    for k1 in jsondata['players'][i].keys():\n",
    "        if isinstance(jsondata['players'][i][k1], dict):\n",
    "            for k2 in jsondata['players'][i][k1].keys():\n",
    "                unnest_season[k1 + '_' + k2] = jsondata['players'][i][k1][k2]\n",
    "        else:\n",
    "            unnest_season[k1] = jsondata['players'][i][k1]\n",
    "    player_seasons.append(unnest_season)\n",
    "player_seasons = pd.DataFrame(player_seasons)"
   ],
   "metadata": {
    "collapsed": false,
    "ExecuteTime": {
     "end_time": "2023-09-19T18:56:57.346396Z",
     "start_time": "2023-09-19T18:56:57.336426Z"
    }
   },
   "id": "387ca52d19ad6f3c"
  },
  {
   "cell_type": "code",
   "execution_count": 36,
   "outputs": [
    {
     "data": {
      "text/plain": "    year                               team_id     team_name team_market  \\\n0   2022  583eca2f-fb46-11e1-82cb-f4ce4684ea4c  Timberwolves   Minnesota   \n1   2022  583eca2f-fb46-11e1-82cb-f4ce4684ea4c  Timberwolves   Minnesota   \n2   2022  583eca2f-fb46-11e1-82cb-f4ce4684ea4c  Timberwolves   Minnesota   \n3   2022  583eca2f-fb46-11e1-82cb-f4ce4684ea4c  Timberwolves   Minnesota   \n4   2022  583eca2f-fb46-11e1-82cb-f4ce4684ea4c  Timberwolves   Minnesota   \n5   2022  583eca2f-fb46-11e1-82cb-f4ce4684ea4c  Timberwolves   Minnesota   \n6   2022  583eca2f-fb46-11e1-82cb-f4ce4684ea4c  Timberwolves   Minnesota   \n7   2022  583eca2f-fb46-11e1-82cb-f4ce4684ea4c  Timberwolves   Minnesota   \n8   2022  583eca2f-fb46-11e1-82cb-f4ce4684ea4c  Timberwolves   Minnesota   \n9   2022  583eca2f-fb46-11e1-82cb-f4ce4684ea4c  Timberwolves   Minnesota   \n10  2022  583eca2f-fb46-11e1-82cb-f4ce4684ea4c  Timberwolves   Minnesota   \n11  2022  583eca2f-fb46-11e1-82cb-f4ce4684ea4c  Timberwolves   Minnesota   \n12  2022  583eca2f-fb46-11e1-82cb-f4ce4684ea4c  Timberwolves   Minnesota   \n13  2022  583eca2f-fb46-11e1-82cb-f4ce4684ea4c  Timberwolves   Minnesota   \n14  2022  583eca2f-fb46-11e1-82cb-f4ce4684ea4c  Timberwolves   Minnesota   \n15  2022  583eca2f-fb46-11e1-82cb-f4ce4684ea4c  Timberwolves   Minnesota   \n16  2022  583eca2f-fb46-11e1-82cb-f4ce4684ea4c  Timberwolves   Minnesota   \n17  2022  583eca2f-fb46-11e1-82cb-f4ce4684ea4c  Timberwolves   Minnesota   \n18  2022  583eca2f-fb46-11e1-82cb-f4ce4684ea4c  Timberwolves   Minnesota   \n19  2022  583eca2f-fb46-11e1-82cb-f4ce4684ea4c  Timberwolves   Minnesota   \n\n      team_sr_id team_reference                                    id  \\\n0   sr:team:3426     1610612750  042f45b2-1dda-4dce-a5ba-1e8b923178c1   \n1   sr:team:3426     1610612750  2e49c27a-06c5-4c4a-87fd-69840b783947   \n2   sr:team:3426     1610612750  34a159c8-9fe6-4386-bf01-3446f4248bcb   \n3   sr:team:3426     1610612750  37fbc3a5-0d10-4e22-803b-baa2ea0cdb12   \n4   sr:team:3426     1610612750  460b7264-b98f-483e-b841-59a18c2e4d67   \n5   sr:team:3426     1610612750  4f80cdb1-1b10-4669-9774-045bc8a99c99   \n6   sr:team:3426     1610612750  59b8fe2b-cd77-4526-8047-816b1f081351   \n7   sr:team:3426     1610612750  6bc71e02-9a03-40db-aed4-332ab5193336   \n8   sr:team:3426     1610612750  6e16fada-c4ba-42af-ab1d-aca511a6c684   \n9   sr:team:3426     1610612750  823b2161-0c34-494c-9d7c-b438152f4f4d   \n10  sr:team:3426     1610612750  8da31ebc-6614-4209-8685-5442bc09887b   \n11  sr:team:3426     1610612750  aa5536d2-4d75-43fb-8df3-47fbf99d3b7c   \n12  sr:team:3426     1610612750  ab532a66-9314-4d57-ade7-bb54a70c65ad   \n13  sr:team:3426     1610612750  bde7f42e-7296-453d-bcba-cac6fad2d03f   \n14  sr:team:3426     1610612750  c4cf8fb6-b7de-45f2-b9f9-9365b8f2f2ed   \n15  sr:team:3426     1610612750  ca784446-05be-4f5e-8108-d7bb1736005a   \n16  sr:team:3426     1610612750  d0c7135a-1aea-40cb-ba20-df656de71749   \n17  sr:team:3426     1610612750  d3d0ab55-b939-47b3-af27-77cdf85d7956   \n18  sr:team:3426     1610612750  dbf09e15-1cd8-434e-acda-9527735ef4d6   \n19  sr:team:3426     1610612750  e23521cd-8e92-4701-b9e7-dc4acd21dfec   \n\n                   full_name    first_name         last_name  ...  \\\n0                  Matt Ryan          Matt              Ryan  ...   \n1              Kyle Anderson          Kyle          Anderson  ...   \n2              Austin Rivers        Austin            Rivers  ...   \n3                Rudy Gobert          Rudy            Gobert  ...   \n4                Mike Conley          Mike            Conley  ...   \n5             Taurean Prince       Taurean            Prince  ...   \n6              Nathan Knight        Nathan            Knight  ...   \n7                A.J. Lawson          A.J.            Lawson  ...   \n8              Jaylen Nowell        Jaylen            Nowell  ...   \n9                   Naz Reid           Naz              Reid  ...   \n10                Luka Garza          Luka             Garza  ...   \n11           Jaden McDaniels         Jaden         McDaniels  ...   \n12        Karl-Anthony Towns  Karl-Anthony             Towns  ...   \n13         Jordan McLaughlin        Jordan        McLaughlin  ...   \n14               Josh Minott          Josh            Minott  ...   \n15               Bryn Forbes          Bryn            Forbes  ...   \n16           Anthony Edwards       Anthony           Edwards  ...   \n17  Nickeil Alexander-Walker       Nickeil  Alexander-Walker  ...   \n18          D'Angelo Russell      D'Angelo           Russell  ...   \n19         Wendell Moore Jr.       Wendell             Moore  ...   \n\n   average_points_in_paint average_fouls_drawn average_offensive_fouls  \\\n0                     0.45                0.23                    0.00   \n1                     5.74                1.87                    0.14   \n2                     1.81                0.88                    0.02   \n3                    10.23                4.56                    0.51   \n4                     3.17                2.67                    0.00   \n5                     3.30                1.57                    0.15   \n6                     2.00                0.87                    0.13   \n7                     2.00                0.00                    0.00   \n8                     5.69                1.25                    0.08   \n9                     6.82                1.62                    0.25   \n10                    3.21                1.25                    0.25   \n11                    6.00                1.58                    0.20   \n12                    8.76                4.59                    0.97   \n13                    1.63                0.49                    0.00   \n14                    2.13                0.33                    0.00   \n15                    0.72                0.52                    0.00   \n16                   10.30                3.52                    0.28   \n17                    1.48                0.91                    0.00   \n18                    4.52                2.67                    0.15   \n19                    1.10                0.24                    0.00   \n\n   average_fast_break_pts average_fast_break_att  average_fast_break_made  \\\n0                    0.36                   0.18                     0.14   \n1                    0.80                   0.54                     0.33   \n2                    0.73                   0.50                     0.29   \n3                    0.67                   0.27                     0.26   \n4                    1.58                   0.96                     0.54   \n5                    1.59                   1.00                     0.56   \n6                    0.42                   0.18                     0.18   \n7                    0.00                   0.00                     0.00   \n8                    2.45                   1.65                     1.05   \n9                    0.94                   0.53                     0.43   \n10                   0.07                   0.04                     0.04   \n11                   2.22                   1.39                     0.92   \n12                   1.90                   1.00                     0.76   \n13                   0.72                   0.49                     0.28   \n14                   0.93                   0.53                     0.47   \n15                   0.24                   0.28                     0.08   \n16                   3.56                   2.29                     1.29   \n17                   0.78                   0.83                     0.30   \n18                   1.81                   1.46                     0.72   \n19                   0.59                   0.45                     0.28   \n\n    average_second_chance_pts  average_second_chance_att  \\\n0                        0.45                       0.23   \n1                        0.90                       0.77   \n2                        0.46                       0.37   \n3                        3.29                       2.31   \n4                        0.83                       0.92   \n5                        0.89                       0.57   \n6                        0.53                       0.50   \n7                        2.00                       1.00   \n8                        0.97                       0.92   \n9                        1.24                       0.96   \n10                       1.61                       0.89   \n11                       1.66                       1.03   \n12                       2.31                       1.34   \n13                       0.05                       0.12   \n14                       0.67                       0.33   \n15                       0.36                       0.20   \n16                       1.47                       0.97   \n17                       0.48                       0.39   \n18                       0.98                       0.76   \n19                       0.14                       0.14   \n\n    average_second_chance_made  name_suffix  \n0                         0.14          NaN  \n1                         0.35          NaN  \n2                         0.17          NaN  \n3                         1.27          NaN  \n4                         0.25          NaN  \n5                         0.35          NaN  \n6                         0.21          NaN  \n7                         1.00          NaN  \n8                         0.42          NaN  \n9                         0.56          NaN  \n10                        0.57          NaN  \n11                        0.65          NaN  \n12                        0.83          NaN  \n13                        0.02          NaN  \n14                        0.27          NaN  \n15                        0.12          NaN  \n16                        0.54          NaN  \n17                        0.22          NaN  \n18                        0.35          NaN  \n19                        0.07          Jr.  \n\n[20 rows x 105 columns]",
      "text/html": "<div>\n<style scoped>\n    .dataframe tbody tr th:only-of-type {\n        vertical-align: middle;\n    }\n\n    .dataframe tbody tr th {\n        vertical-align: top;\n    }\n\n    .dataframe thead th {\n        text-align: right;\n    }\n</style>\n<table border=\"1\" class=\"dataframe\">\n  <thead>\n    <tr style=\"text-align: right;\">\n      <th></th>\n      <th>year</th>\n      <th>team_id</th>\n      <th>team_name</th>\n      <th>team_market</th>\n      <th>team_sr_id</th>\n      <th>team_reference</th>\n      <th>id</th>\n      <th>full_name</th>\n      <th>first_name</th>\n      <th>last_name</th>\n      <th>...</th>\n      <th>average_points_in_paint</th>\n      <th>average_fouls_drawn</th>\n      <th>average_offensive_fouls</th>\n      <th>average_fast_break_pts</th>\n      <th>average_fast_break_att</th>\n      <th>average_fast_break_made</th>\n      <th>average_second_chance_pts</th>\n      <th>average_second_chance_att</th>\n      <th>average_second_chance_made</th>\n      <th>name_suffix</th>\n    </tr>\n  </thead>\n  <tbody>\n    <tr>\n      <th>0</th>\n      <td>2022</td>\n      <td>583eca2f-fb46-11e1-82cb-f4ce4684ea4c</td>\n      <td>Timberwolves</td>\n      <td>Minnesota</td>\n      <td>sr:team:3426</td>\n      <td>1610612750</td>\n      <td>042f45b2-1dda-4dce-a5ba-1e8b923178c1</td>\n      <td>Matt Ryan</td>\n      <td>Matt</td>\n      <td>Ryan</td>\n      <td>...</td>\n      <td>0.45</td>\n      <td>0.23</td>\n      <td>0.00</td>\n      <td>0.36</td>\n      <td>0.18</td>\n      <td>0.14</td>\n      <td>0.45</td>\n      <td>0.23</td>\n      <td>0.14</td>\n      <td>NaN</td>\n    </tr>\n    <tr>\n      <th>1</th>\n      <td>2022</td>\n      <td>583eca2f-fb46-11e1-82cb-f4ce4684ea4c</td>\n      <td>Timberwolves</td>\n      <td>Minnesota</td>\n      <td>sr:team:3426</td>\n      <td>1610612750</td>\n      <td>2e49c27a-06c5-4c4a-87fd-69840b783947</td>\n      <td>Kyle Anderson</td>\n      <td>Kyle</td>\n      <td>Anderson</td>\n      <td>...</td>\n      <td>5.74</td>\n      <td>1.87</td>\n      <td>0.14</td>\n      <td>0.80</td>\n      <td>0.54</td>\n      <td>0.33</td>\n      <td>0.90</td>\n      <td>0.77</td>\n      <td>0.35</td>\n      <td>NaN</td>\n    </tr>\n    <tr>\n      <th>2</th>\n      <td>2022</td>\n      <td>583eca2f-fb46-11e1-82cb-f4ce4684ea4c</td>\n      <td>Timberwolves</td>\n      <td>Minnesota</td>\n      <td>sr:team:3426</td>\n      <td>1610612750</td>\n      <td>34a159c8-9fe6-4386-bf01-3446f4248bcb</td>\n      <td>Austin Rivers</td>\n      <td>Austin</td>\n      <td>Rivers</td>\n      <td>...</td>\n      <td>1.81</td>\n      <td>0.88</td>\n      <td>0.02</td>\n      <td>0.73</td>\n      <td>0.50</td>\n      <td>0.29</td>\n      <td>0.46</td>\n      <td>0.37</td>\n      <td>0.17</td>\n      <td>NaN</td>\n    </tr>\n    <tr>\n      <th>3</th>\n      <td>2022</td>\n      <td>583eca2f-fb46-11e1-82cb-f4ce4684ea4c</td>\n      <td>Timberwolves</td>\n      <td>Minnesota</td>\n      <td>sr:team:3426</td>\n      <td>1610612750</td>\n      <td>37fbc3a5-0d10-4e22-803b-baa2ea0cdb12</td>\n      <td>Rudy Gobert</td>\n      <td>Rudy</td>\n      <td>Gobert</td>\n      <td>...</td>\n      <td>10.23</td>\n      <td>4.56</td>\n      <td>0.51</td>\n      <td>0.67</td>\n      <td>0.27</td>\n      <td>0.26</td>\n      <td>3.29</td>\n      <td>2.31</td>\n      <td>1.27</td>\n      <td>NaN</td>\n    </tr>\n    <tr>\n      <th>4</th>\n      <td>2022</td>\n      <td>583eca2f-fb46-11e1-82cb-f4ce4684ea4c</td>\n      <td>Timberwolves</td>\n      <td>Minnesota</td>\n      <td>sr:team:3426</td>\n      <td>1610612750</td>\n      <td>460b7264-b98f-483e-b841-59a18c2e4d67</td>\n      <td>Mike Conley</td>\n      <td>Mike</td>\n      <td>Conley</td>\n      <td>...</td>\n      <td>3.17</td>\n      <td>2.67</td>\n      <td>0.00</td>\n      <td>1.58</td>\n      <td>0.96</td>\n      <td>0.54</td>\n      <td>0.83</td>\n      <td>0.92</td>\n      <td>0.25</td>\n      <td>NaN</td>\n    </tr>\n    <tr>\n      <th>5</th>\n      <td>2022</td>\n      <td>583eca2f-fb46-11e1-82cb-f4ce4684ea4c</td>\n      <td>Timberwolves</td>\n      <td>Minnesota</td>\n      <td>sr:team:3426</td>\n      <td>1610612750</td>\n      <td>4f80cdb1-1b10-4669-9774-045bc8a99c99</td>\n      <td>Taurean Prince</td>\n      <td>Taurean</td>\n      <td>Prince</td>\n      <td>...</td>\n      <td>3.30</td>\n      <td>1.57</td>\n      <td>0.15</td>\n      <td>1.59</td>\n      <td>1.00</td>\n      <td>0.56</td>\n      <td>0.89</td>\n      <td>0.57</td>\n      <td>0.35</td>\n      <td>NaN</td>\n    </tr>\n    <tr>\n      <th>6</th>\n      <td>2022</td>\n      <td>583eca2f-fb46-11e1-82cb-f4ce4684ea4c</td>\n      <td>Timberwolves</td>\n      <td>Minnesota</td>\n      <td>sr:team:3426</td>\n      <td>1610612750</td>\n      <td>59b8fe2b-cd77-4526-8047-816b1f081351</td>\n      <td>Nathan Knight</td>\n      <td>Nathan</td>\n      <td>Knight</td>\n      <td>...</td>\n      <td>2.00</td>\n      <td>0.87</td>\n      <td>0.13</td>\n      <td>0.42</td>\n      <td>0.18</td>\n      <td>0.18</td>\n      <td>0.53</td>\n      <td>0.50</td>\n      <td>0.21</td>\n      <td>NaN</td>\n    </tr>\n    <tr>\n      <th>7</th>\n      <td>2022</td>\n      <td>583eca2f-fb46-11e1-82cb-f4ce4684ea4c</td>\n      <td>Timberwolves</td>\n      <td>Minnesota</td>\n      <td>sr:team:3426</td>\n      <td>1610612750</td>\n      <td>6bc71e02-9a03-40db-aed4-332ab5193336</td>\n      <td>A.J. Lawson</td>\n      <td>A.J.</td>\n      <td>Lawson</td>\n      <td>...</td>\n      <td>2.00</td>\n      <td>0.00</td>\n      <td>0.00</td>\n      <td>0.00</td>\n      <td>0.00</td>\n      <td>0.00</td>\n      <td>2.00</td>\n      <td>1.00</td>\n      <td>1.00</td>\n      <td>NaN</td>\n    </tr>\n    <tr>\n      <th>8</th>\n      <td>2022</td>\n      <td>583eca2f-fb46-11e1-82cb-f4ce4684ea4c</td>\n      <td>Timberwolves</td>\n      <td>Minnesota</td>\n      <td>sr:team:3426</td>\n      <td>1610612750</td>\n      <td>6e16fada-c4ba-42af-ab1d-aca511a6c684</td>\n      <td>Jaylen Nowell</td>\n      <td>Jaylen</td>\n      <td>Nowell</td>\n      <td>...</td>\n      <td>5.69</td>\n      <td>1.25</td>\n      <td>0.08</td>\n      <td>2.45</td>\n      <td>1.65</td>\n      <td>1.05</td>\n      <td>0.97</td>\n      <td>0.92</td>\n      <td>0.42</td>\n      <td>NaN</td>\n    </tr>\n    <tr>\n      <th>9</th>\n      <td>2022</td>\n      <td>583eca2f-fb46-11e1-82cb-f4ce4684ea4c</td>\n      <td>Timberwolves</td>\n      <td>Minnesota</td>\n      <td>sr:team:3426</td>\n      <td>1610612750</td>\n      <td>823b2161-0c34-494c-9d7c-b438152f4f4d</td>\n      <td>Naz Reid</td>\n      <td>Naz</td>\n      <td>Reid</td>\n      <td>...</td>\n      <td>6.82</td>\n      <td>1.62</td>\n      <td>0.25</td>\n      <td>0.94</td>\n      <td>0.53</td>\n      <td>0.43</td>\n      <td>1.24</td>\n      <td>0.96</td>\n      <td>0.56</td>\n      <td>NaN</td>\n    </tr>\n    <tr>\n      <th>10</th>\n      <td>2022</td>\n      <td>583eca2f-fb46-11e1-82cb-f4ce4684ea4c</td>\n      <td>Timberwolves</td>\n      <td>Minnesota</td>\n      <td>sr:team:3426</td>\n      <td>1610612750</td>\n      <td>8da31ebc-6614-4209-8685-5442bc09887b</td>\n      <td>Luka Garza</td>\n      <td>Luka</td>\n      <td>Garza</td>\n      <td>...</td>\n      <td>3.21</td>\n      <td>1.25</td>\n      <td>0.25</td>\n      <td>0.07</td>\n      <td>0.04</td>\n      <td>0.04</td>\n      <td>1.61</td>\n      <td>0.89</td>\n      <td>0.57</td>\n      <td>NaN</td>\n    </tr>\n    <tr>\n      <th>11</th>\n      <td>2022</td>\n      <td>583eca2f-fb46-11e1-82cb-f4ce4684ea4c</td>\n      <td>Timberwolves</td>\n      <td>Minnesota</td>\n      <td>sr:team:3426</td>\n      <td>1610612750</td>\n      <td>aa5536d2-4d75-43fb-8df3-47fbf99d3b7c</td>\n      <td>Jaden McDaniels</td>\n      <td>Jaden</td>\n      <td>McDaniels</td>\n      <td>...</td>\n      <td>6.00</td>\n      <td>1.58</td>\n      <td>0.20</td>\n      <td>2.22</td>\n      <td>1.39</td>\n      <td>0.92</td>\n      <td>1.66</td>\n      <td>1.03</td>\n      <td>0.65</td>\n      <td>NaN</td>\n    </tr>\n    <tr>\n      <th>12</th>\n      <td>2022</td>\n      <td>583eca2f-fb46-11e1-82cb-f4ce4684ea4c</td>\n      <td>Timberwolves</td>\n      <td>Minnesota</td>\n      <td>sr:team:3426</td>\n      <td>1610612750</td>\n      <td>ab532a66-9314-4d57-ade7-bb54a70c65ad</td>\n      <td>Karl-Anthony Towns</td>\n      <td>Karl-Anthony</td>\n      <td>Towns</td>\n      <td>...</td>\n      <td>8.76</td>\n      <td>4.59</td>\n      <td>0.97</td>\n      <td>1.90</td>\n      <td>1.00</td>\n      <td>0.76</td>\n      <td>2.31</td>\n      <td>1.34</td>\n      <td>0.83</td>\n      <td>NaN</td>\n    </tr>\n    <tr>\n      <th>13</th>\n      <td>2022</td>\n      <td>583eca2f-fb46-11e1-82cb-f4ce4684ea4c</td>\n      <td>Timberwolves</td>\n      <td>Minnesota</td>\n      <td>sr:team:3426</td>\n      <td>1610612750</td>\n      <td>bde7f42e-7296-453d-bcba-cac6fad2d03f</td>\n      <td>Jordan McLaughlin</td>\n      <td>Jordan</td>\n      <td>McLaughlin</td>\n      <td>...</td>\n      <td>1.63</td>\n      <td>0.49</td>\n      <td>0.00</td>\n      <td>0.72</td>\n      <td>0.49</td>\n      <td>0.28</td>\n      <td>0.05</td>\n      <td>0.12</td>\n      <td>0.02</td>\n      <td>NaN</td>\n    </tr>\n    <tr>\n      <th>14</th>\n      <td>2022</td>\n      <td>583eca2f-fb46-11e1-82cb-f4ce4684ea4c</td>\n      <td>Timberwolves</td>\n      <td>Minnesota</td>\n      <td>sr:team:3426</td>\n      <td>1610612750</td>\n      <td>c4cf8fb6-b7de-45f2-b9f9-9365b8f2f2ed</td>\n      <td>Josh Minott</td>\n      <td>Josh</td>\n      <td>Minott</td>\n      <td>...</td>\n      <td>2.13</td>\n      <td>0.33</td>\n      <td>0.00</td>\n      <td>0.93</td>\n      <td>0.53</td>\n      <td>0.47</td>\n      <td>0.67</td>\n      <td>0.33</td>\n      <td>0.27</td>\n      <td>NaN</td>\n    </tr>\n    <tr>\n      <th>15</th>\n      <td>2022</td>\n      <td>583eca2f-fb46-11e1-82cb-f4ce4684ea4c</td>\n      <td>Timberwolves</td>\n      <td>Minnesota</td>\n      <td>sr:team:3426</td>\n      <td>1610612750</td>\n      <td>ca784446-05be-4f5e-8108-d7bb1736005a</td>\n      <td>Bryn Forbes</td>\n      <td>Bryn</td>\n      <td>Forbes</td>\n      <td>...</td>\n      <td>0.72</td>\n      <td>0.52</td>\n      <td>0.00</td>\n      <td>0.24</td>\n      <td>0.28</td>\n      <td>0.08</td>\n      <td>0.36</td>\n      <td>0.20</td>\n      <td>0.12</td>\n      <td>NaN</td>\n    </tr>\n    <tr>\n      <th>16</th>\n      <td>2022</td>\n      <td>583eca2f-fb46-11e1-82cb-f4ce4684ea4c</td>\n      <td>Timberwolves</td>\n      <td>Minnesota</td>\n      <td>sr:team:3426</td>\n      <td>1610612750</td>\n      <td>d0c7135a-1aea-40cb-ba20-df656de71749</td>\n      <td>Anthony Edwards</td>\n      <td>Anthony</td>\n      <td>Edwards</td>\n      <td>...</td>\n      <td>10.30</td>\n      <td>3.52</td>\n      <td>0.28</td>\n      <td>3.56</td>\n      <td>2.29</td>\n      <td>1.29</td>\n      <td>1.47</td>\n      <td>0.97</td>\n      <td>0.54</td>\n      <td>NaN</td>\n    </tr>\n    <tr>\n      <th>17</th>\n      <td>2022</td>\n      <td>583eca2f-fb46-11e1-82cb-f4ce4684ea4c</td>\n      <td>Timberwolves</td>\n      <td>Minnesota</td>\n      <td>sr:team:3426</td>\n      <td>1610612750</td>\n      <td>d3d0ab55-b939-47b3-af27-77cdf85d7956</td>\n      <td>Nickeil Alexander-Walker</td>\n      <td>Nickeil</td>\n      <td>Alexander-Walker</td>\n      <td>...</td>\n      <td>1.48</td>\n      <td>0.91</td>\n      <td>0.00</td>\n      <td>0.78</td>\n      <td>0.83</td>\n      <td>0.30</td>\n      <td>0.48</td>\n      <td>0.39</td>\n      <td>0.22</td>\n      <td>NaN</td>\n    </tr>\n    <tr>\n      <th>18</th>\n      <td>2022</td>\n      <td>583eca2f-fb46-11e1-82cb-f4ce4684ea4c</td>\n      <td>Timberwolves</td>\n      <td>Minnesota</td>\n      <td>sr:team:3426</td>\n      <td>1610612750</td>\n      <td>dbf09e15-1cd8-434e-acda-9527735ef4d6</td>\n      <td>D'Angelo Russell</td>\n      <td>D'Angelo</td>\n      <td>Russell</td>\n      <td>...</td>\n      <td>4.52</td>\n      <td>2.67</td>\n      <td>0.15</td>\n      <td>1.81</td>\n      <td>1.46</td>\n      <td>0.72</td>\n      <td>0.98</td>\n      <td>0.76</td>\n      <td>0.35</td>\n      <td>NaN</td>\n    </tr>\n    <tr>\n      <th>19</th>\n      <td>2022</td>\n      <td>583eca2f-fb46-11e1-82cb-f4ce4684ea4c</td>\n      <td>Timberwolves</td>\n      <td>Minnesota</td>\n      <td>sr:team:3426</td>\n      <td>1610612750</td>\n      <td>e23521cd-8e92-4701-b9e7-dc4acd21dfec</td>\n      <td>Wendell Moore Jr.</td>\n      <td>Wendell</td>\n      <td>Moore</td>\n      <td>...</td>\n      <td>1.10</td>\n      <td>0.24</td>\n      <td>0.00</td>\n      <td>0.59</td>\n      <td>0.45</td>\n      <td>0.28</td>\n      <td>0.14</td>\n      <td>0.14</td>\n      <td>0.07</td>\n      <td>Jr.</td>\n    </tr>\n  </tbody>\n</table>\n<p>20 rows × 105 columns</p>\n</div>"
     },
     "execution_count": 36,
     "metadata": {},
     "output_type": "execute_result"
    }
   ],
   "source": [
    "player_seasons"
   ],
   "metadata": {
    "collapsed": false,
    "ExecuteTime": {
     "end_time": "2023-09-19T18:57:48.490191Z",
     "start_time": "2023-09-19T18:57:48.359156Z"
    }
   },
   "id": "fcc2f80dee11b30d"
  },
  {
   "cell_type": "markdown",
   "source": [
    "### Play-by-Play"
   ],
   "metadata": {
    "collapsed": false
   },
   "id": "c74fc467bf87504f"
  },
  {
   "cell_type": "code",
   "execution_count": 37,
   "outputs": [],
   "source": [
    "conn = http.client.HTTPSConnection(\"api.sportradar.us\")\n",
    "\n",
    "conn.request(\"GET\", \"/nba/production/v8/en/games/20adc0dd-2579-445a-9f06-a5420b648645/pbp.json?api_key=e6w9mm4e7yyguy2fpawsaxvd\")\n",
    "\n",
    "res = conn.getresponse()\n",
    "data = res.read().decode(\"utf-8\")\n",
    "jsondata = json.loads(data)"
   ],
   "metadata": {
    "collapsed": false,
    "ExecuteTime": {
     "end_time": "2023-09-20T12:55:32.150587Z",
     "start_time": "2023-09-20T12:55:28.867061Z"
    }
   },
   "id": "dcde7bf3d95ee6eb"
  },
  {
   "cell_type": "code",
   "execution_count": null,
   "outputs": [],
   "source": [],
   "metadata": {
    "collapsed": false
   },
   "id": "499a7f307d265372"
  }
 ],
 "metadata": {
  "kernelspec": {
   "display_name": "Python 3",
   "language": "python",
   "name": "python3"
  },
  "language_info": {
   "codemirror_mode": {
    "name": "ipython",
    "version": 2
   },
   "file_extension": ".py",
   "mimetype": "text/x-python",
   "name": "python",
   "nbconvert_exporter": "python",
   "pygments_lexer": "ipython2",
   "version": "2.7.6"
  }
 },
 "nbformat": 4,
 "nbformat_minor": 5
}
